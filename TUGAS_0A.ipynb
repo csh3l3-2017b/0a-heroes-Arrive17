{
 "cells": [
  {
   "cell_type": "code",
   "execution_count": 39,
   "metadata": {},
   "outputs": [
    {
     "name": "stdout",
     "output_type": "stream",
     "text": [
      "Test set:  53\n"
     ]
    }
   ],
   "source": [
    "import csv\n",
    "            \n",
    "# Mengambil data File Test            \n",
    "def loadDataset(file):\n",
    "    \n",
    "    dataTest = []\n",
    "\n",
    "    with open(file) as csvfile2:\n",
    "        lines = csv.reader(csvfile2)\n",
    "\n",
    "        dataset = list(lines)\n",
    "\n",
    "        for x in range(53):\n",
    "            for y in range(5):\n",
    "                dataset[x][y] = dataset[x][y]\n",
    "\n",
    "            dataTest.append(dataset[x])\n",
    "\n",
    "    return dataTest\n",
    "\n",
    "def main(): # Fuction utama buat program\n",
    "\n",
    "    # Membaca Data dari File test \n",
    "    Percobaan = []\n",
    "\n",
    "    Percobaan = loadDataset('./test.csv')\n",
    "    print('Test set: ', len(Percobaan))\n",
    "    \n",
    "    \n",
    "    # Membaca Hasil dari Data File Test\n",
    "    Hasil = []\n",
    "    for x in range(1,len(Percobaan)):\n",
    "        \n",
    "        if int(Percobaan[x][1]) >= 270:\n",
    "            \n",
    "            Hasil.append([Percobaan[x][0], 'MARKSMAN'])\n",
    "            \n",
    "        elif int(Percobaan[x][5]) >= 500:\n",
    "            \n",
    "            Hasil.append([Percobaan[x][0], 'MAGE'])\n",
    "            \n",
    "        elif int(Percobaan[x][3]) >= 25:\n",
    "            \n",
    "            Hasil.append([Percobaan[x][0], 'TANK'])\n",
    "            \n",
    "        elif int(Percobaan[x][2]) >= 121:\n",
    "            \n",
    "            Hasil.append([Percobaan[x][0], 'ASSASSIN'])\n",
    "            \n",
    "        elif int(Percobaan[x][4]) >= 2580:\n",
    "            \n",
    "            Hasil.append([Percobaan[x][0], 'FIGHTER'])\n",
    "            \n",
    "        else:\n",
    "            \n",
    "            Hasil.append([Percobaan[x][0], 'SUPPORT'])\n",
    "            \n",
    "    # Mendapatkan Hasil\n",
    "    Hasil.insert(0, ['NAME', 'ROLE'])\n",
    "    \n",
    "    # Menyimpan Data dari Hasil ke file csv (Ms Excel)\n",
    "    saveToCsv(Hasil)\n",
    "    \n",
    "    # Menyimpan Data ke Ms Excel denngan Nama File Prediction\n",
    "def saveToCsv(result):\n",
    "    with open('./prediction.csv', 'w', newline='') as csvfile:\n",
    "        lines = csv.writer(csvfile)\n",
    "\n",
    "        for x in range(len(result)):\n",
    "            lines.writerow(result[x])\n",
    "    \n",
    "main()"
   ]
  },
  {
   "cell_type": "code",
   "execution_count": null,
   "metadata": {
    "collapsed": true
   },
   "outputs": [],
   "source": []
  },
  {
   "cell_type": "code",
   "execution_count": null,
   "metadata": {
    "collapsed": true
   },
   "outputs": [],
   "source": []
  },
  {
   "cell_type": "code",
   "execution_count": null,
   "metadata": {
    "collapsed": true
   },
   "outputs": [],
   "source": []
  }
 ],
 "metadata": {
  "kernelspec": {
   "display_name": "Python 3",
   "language": "python",
   "name": "python3"
  },
  "language_info": {
   "codemirror_mode": {
    "name": "ipython",
    "version": 3
   },
   "file_extension": ".py",
   "mimetype": "text/x-python",
   "name": "python",
   "nbconvert_exporter": "python",
   "pygments_lexer": "ipython3",
   "version": "3.6.3"
  }
 },
 "nbformat": 4,
 "nbformat_minor": 2
}
